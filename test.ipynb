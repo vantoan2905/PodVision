{
 "cells": [
  {
   "cell_type": "code",
   "execution_count": 1,
   "id": "044d6ffd",
   "metadata": {},
   "outputs": [
    {
     "name": "stdout",
     "output_type": "stream",
     "text": [
      "|-- favicon.ico\n",
      "|-- globals.css\n",
      "|-- layout.tsx\n",
      "|-- login\n",
      "    |-- page.tsx\n",
      "|-- page.tsx\n"
     ]
    }
   ],
   "source": [
    "import os\n",
    "\n",
    "def print_folder_structure(root_folder, indent=\"\"):\n",
    "    for item in os.listdir(root_folder):\n",
    "        path = os.path.join(root_folder, item)\n",
    "        print(indent + \"|-- \" + item)\n",
    "        if os.path.isdir(path):\n",
    "            print_folder_structure(path, indent + \"    \")\n",
    "\n",
    "# Thay đường dẫn bằng folder bạn muốn hiển thị\n",
    "\n",
    "print_folder_structure(r\"D:\\pcb_defect\\ui\\PodVision\\app\")"
   ]
  },
  {
   "cell_type": "code",
   "execution_count": null,
   "id": "79e6ee50",
   "metadata": {},
   "outputs": [],
   "source": []
  },
  {
   "cell_type": "code",
   "execution_count": null,
   "id": "523453f7",
   "metadata": {},
   "outputs": [],
   "source": []
  }
 ],
 "metadata": {
  "kernelspec": {
   "display_name": "torch_gpu",
   "language": "python",
   "name": "python3"
  },
  "language_info": {
   "codemirror_mode": {
    "name": "ipython",
    "version": 3
   },
   "file_extension": ".py",
   "mimetype": "text/x-python",
   "name": "python",
   "nbconvert_exporter": "python",
   "pygments_lexer": "ipython3",
   "version": "3.10.18"
  }
 },
 "nbformat": 4,
 "nbformat_minor": 5
}
